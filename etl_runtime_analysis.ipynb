{
 "cells": [
  {
   "cell_type": "code",
   "execution_count": 1,
   "metadata": {},
   "outputs": [],
   "source": [
    "%matplotlib inline\n",
    "\n",
    "import pandas as pd\n",
    "import numpy as np\n",
    "import timeit\n",
    "from datetime import datetime\n",
    "from pandas.io.json import json_normalize\n",
    "import ast\n",
    "import xlrd\n",
    "\n",
    "generic = lambda x: ast.literal_eval(x)\n",
    "conv = {'Purchase': generic}\n",
    "\n",
    "#Defining a wrapper function for timings.\n",
    "def wrapper(func, *args, **kwargs):\n",
    "    def wrapped():\n",
    "        return func(*args, **kwargs)\n",
    "    return wrapped\n",
    "\n",
    "#Building a timing function to evaluate function efficiency\n",
    "def time_function(size, function):\n",
    "    ls_times = []\n",
    "    for n in range(size):\n",
    "        ls_random = np.random.choice(100,n,replace=True).tolist()\n",
    "        #print len(ls_random), mystery(ls_random)\n",
    "        wrapped = wrapper(function, ls_random)\n",
    "        exec_time = timeit.timeit(wrapped, number=10)\n",
    "        ls_times.append(exec_time)\n",
    "        \n",
    "    return ls_times"
   ]
  },
  {
   "cell_type": "markdown",
   "metadata": {},
   "source": [
    "## Part 1"
   ]
  },
  {
   "cell_type": "markdown",
   "metadata": {},
   "source": [
    "### ETL Pipeline and SQL\n",
    "You are a member of the Bebop, an eclectic interplanetary bar/ship dealing mostly in rare weapons. Your boss has recently tasked you with organizing the ship’s transactional data, as he is looking to make operations more efficient and increase booty for the ship. \n",
    "\n",
    "#### Section A:\n",
    "The transaction log includes invoice number, customer id, purchases, date, and planet of each transaction from 2010-2011. The log itself is in chronological order, but its fields are messy (e.g. dates can be strings or integers). Your boss anticipates you will turn the raw data into something that he will be able to examine and use easily. Please use Python to read the raw data file (located here: https://www.dropbox.com/s/11t5bbgggrekt85/data.csv.zip?dl=0) and clean and transform its fields."
   ]
  },
  {
   "cell_type": "code",
   "execution_count": 2,
   "metadata": {},
   "outputs": [
    {
     "name": "stdout",
     "output_type": "stream",
     "text": [
      "Shape of the Data: (24363, 5)\n"
     ]
    },
    {
     "data": {
      "text/html": [
       "<div>\n",
       "<style scoped>\n",
       "    .dataframe tbody tr th:only-of-type {\n",
       "        vertical-align: middle;\n",
       "    }\n",
       "\n",
       "    .dataframe tbody tr th {\n",
       "        vertical-align: top;\n",
       "    }\n",
       "\n",
       "    .dataframe thead th {\n",
       "        text-align: right;\n",
       "    }\n",
       "</style>\n",
       "<table border=\"1\" class=\"dataframe\">\n",
       "  <thead>\n",
       "    <tr style=\"text-align: right;\">\n",
       "      <th></th>\n",
       "      <th>InvoiceNo</th>\n",
       "      <th>Customer_ID</th>\n",
       "      <th>Date</th>\n",
       "      <th>Planet</th>\n",
       "      <th>Purchase</th>\n",
       "    </tr>\n",
       "  </thead>\n",
       "  <tbody>\n",
       "    <tr>\n",
       "      <th>0</th>\n",
       "      <td>536365</td>\n",
       "      <td>17850.0</td>\n",
       "      <td>Dec 01 2010</td>\n",
       "      <td>Abydos</td>\n",
       "      <td>[{u'ItemNo': u'85123A', u'UnitPrice': 2.55, u'...</td>\n",
       "    </tr>\n",
       "    <tr>\n",
       "      <th>1</th>\n",
       "      <td>536366</td>\n",
       "      <td>17850.0</td>\n",
       "      <td>40513</td>\n",
       "      <td>Abydos</td>\n",
       "      <td>[{u'ItemNo': 22633, u'UnitPrice': 1.85, u'Desc...</td>\n",
       "    </tr>\n",
       "    <tr>\n",
       "      <th>2</th>\n",
       "      <td>536367</td>\n",
       "      <td>13047.0</td>\n",
       "      <td>12/01/2010</td>\n",
       "      <td>Abydos</td>\n",
       "      <td>[{u'ItemNo': 84879, u'UnitPrice': 1.69, u'Desc...</td>\n",
       "    </tr>\n",
       "    <tr>\n",
       "      <th>3</th>\n",
       "      <td>536368</td>\n",
       "      <td>13047.0</td>\n",
       "      <td>Dec 01 2010</td>\n",
       "      <td>Abydos</td>\n",
       "      <td>[{u'ItemNo': 22960, u'UnitPrice': 4.25, u'Desc...</td>\n",
       "    </tr>\n",
       "    <tr>\n",
       "      <th>4</th>\n",
       "      <td>536369</td>\n",
       "      <td>13047.0</td>\n",
       "      <td>12/01/2010</td>\n",
       "      <td>Abydos</td>\n",
       "      <td>[{u'ItemNo': 21756, u'UnitPrice': 5.95, u'Desc...</td>\n",
       "    </tr>\n",
       "  </tbody>\n",
       "</table>\n",
       "</div>"
      ],
      "text/plain": [
       "  InvoiceNo  Customer_ID         Date  Planet  \\\n",
       "0    536365      17850.0  Dec 01 2010  Abydos   \n",
       "1    536366      17850.0        40513  Abydos   \n",
       "2    536367      13047.0   12/01/2010  Abydos   \n",
       "3    536368      13047.0  Dec 01 2010  Abydos   \n",
       "4    536369      13047.0   12/01/2010  Abydos   \n",
       "\n",
       "                                            Purchase  \n",
       "0  [{u'ItemNo': u'85123A', u'UnitPrice': 2.55, u'...  \n",
       "1  [{u'ItemNo': 22633, u'UnitPrice': 1.85, u'Desc...  \n",
       "2  [{u'ItemNo': 84879, u'UnitPrice': 1.69, u'Desc...  \n",
       "3  [{u'ItemNo': 22960, u'UnitPrice': 4.25, u'Desc...  \n",
       "4  [{u'ItemNo': 21756, u'UnitPrice': 5.95, u'Desc...  "
      ]
     },
     "execution_count": 2,
     "metadata": {},
     "output_type": "execute_result"
    }
   ],
   "source": [
    "#Read the Data Files\n",
    "df_data = pd.read_csv('./input/data.csv', converters=conv)\n",
    "print 'Shape of the Data:', df_data.shape\n",
    "df_data.head()"
   ]
  },
  {
   "cell_type": "code",
   "execution_count": 3,
   "metadata": {},
   "outputs": [
    {
     "name": "stdout",
     "output_type": "stream",
     "text": [
      "CPU times: user 4 µs, sys: 4 µs, total: 8 µs\n",
      "Wall time: 10 µs\n"
     ]
    },
    {
     "data": {
      "text/html": [
       "<div>\n",
       "<style scoped>\n",
       "    .dataframe tbody tr th:only-of-type {\n",
       "        vertical-align: middle;\n",
       "    }\n",
       "\n",
       "    .dataframe tbody tr th {\n",
       "        vertical-align: top;\n",
       "    }\n",
       "\n",
       "    .dataframe thead th {\n",
       "        text-align: right;\n",
       "    }\n",
       "</style>\n",
       "<table border=\"1\" class=\"dataframe\">\n",
       "  <thead>\n",
       "    <tr style=\"text-align: right;\">\n",
       "      <th></th>\n",
       "      <th>InvoiceNo</th>\n",
       "      <th>Customer_ID</th>\n",
       "      <th>Date</th>\n",
       "      <th>Planet</th>\n",
       "      <th>Purchase</th>\n",
       "    </tr>\n",
       "  </thead>\n",
       "  <tbody>\n",
       "    <tr>\n",
       "      <th>0</th>\n",
       "      <td>536365</td>\n",
       "      <td>17850</td>\n",
       "      <td>2010-12-01</td>\n",
       "      <td>Abydos</td>\n",
       "      <td>[{u'ItemNo': u'85123A', u'UnitPrice': 2.55, u'...</td>\n",
       "    </tr>\n",
       "    <tr>\n",
       "      <th>1</th>\n",
       "      <td>536366</td>\n",
       "      <td>17850</td>\n",
       "      <td>2010-12-01</td>\n",
       "      <td>Abydos</td>\n",
       "      <td>[{u'ItemNo': 22633, u'UnitPrice': 1.85, u'Desc...</td>\n",
       "    </tr>\n",
       "    <tr>\n",
       "      <th>2</th>\n",
       "      <td>536367</td>\n",
       "      <td>13047</td>\n",
       "      <td>2010-12-01</td>\n",
       "      <td>Abydos</td>\n",
       "      <td>[{u'ItemNo': 84879, u'UnitPrice': 1.69, u'Desc...</td>\n",
       "    </tr>\n",
       "    <tr>\n",
       "      <th>3</th>\n",
       "      <td>536368</td>\n",
       "      <td>13047</td>\n",
       "      <td>2010-12-01</td>\n",
       "      <td>Abydos</td>\n",
       "      <td>[{u'ItemNo': 22960, u'UnitPrice': 4.25, u'Desc...</td>\n",
       "    </tr>\n",
       "    <tr>\n",
       "      <th>4</th>\n",
       "      <td>536369</td>\n",
       "      <td>13047</td>\n",
       "      <td>2010-12-01</td>\n",
       "      <td>Abydos</td>\n",
       "      <td>[{u'ItemNo': 21756, u'UnitPrice': 5.95, u'Desc...</td>\n",
       "    </tr>\n",
       "  </tbody>\n",
       "</table>\n",
       "</div>"
      ],
      "text/plain": [
       "  InvoiceNo Customer_ID       Date  Planet  \\\n",
       "0    536365       17850 2010-12-01  Abydos   \n",
       "1    536366       17850 2010-12-01  Abydos   \n",
       "2    536367       13047 2010-12-01  Abydos   \n",
       "3    536368       13047 2010-12-01  Abydos   \n",
       "4    536369       13047 2010-12-01  Abydos   \n",
       "\n",
       "                                            Purchase  \n",
       "0  [{u'ItemNo': u'85123A', u'UnitPrice': 2.55, u'...  \n",
       "1  [{u'ItemNo': 22633, u'UnitPrice': 1.85, u'Desc...  \n",
       "2  [{u'ItemNo': 84879, u'UnitPrice': 1.69, u'Desc...  \n",
       "3  [{u'ItemNo': 22960, u'UnitPrice': 4.25, u'Desc...  \n",
       "4  [{u'ItemNo': 21756, u'UnitPrice': 5.95, u'Desc...  "
      ]
     },
     "execution_count": 3,
     "metadata": {},
     "output_type": "execute_result"
    }
   ],
   "source": [
    "%time\n",
    "#Clean the Date Field with Excel Number formats\n",
    "def clean_dates(date):\n",
    "    if date.isdigit():\n",
    "        return datetime.fromordinal(datetime(1900, 1, 1).toordinal() + int(date) - 2)\n",
    "    else:\n",
    "        return date\n",
    "    \n",
    "df_data['Date'] = df_data['Date'].apply(clean_dates)\n",
    "df_data.loc[df_data[df_data['Customer_ID'].isnull()].index, 'Customer_ID'] = 'Unknown'\n",
    "df_data.head()"
   ]
  },
  {
   "cell_type": "code",
   "execution_count": 4,
   "metadata": {},
   "outputs": [
    {
     "name": "stdout",
     "output_type": "stream",
     "text": [
      "(540372, 6)\n",
      "CPU times: user 22min 3s, sys: 2min 3s, total: 24min 7s\n",
      "Wall time: 24min 12s\n"
     ]
    }
   ],
   "source": [
    "%%time\n",
    "#Clean the Purchase History\n",
    "#Function takes a dataframe withe Invoice#, Customer# and the Purchase JSON Object\n",
    "#Returns a normalized dataframe with the Invoice#, Customer# and the Purchase details of each transaction.\n",
    "#To fasten try leveraging numpy later\n",
    "def clean_purchase(df):\n",
    "    df_collection = pd.DataFrame()\n",
    "    #For each row in the d\n",
    "    for row in df.iterrows():\n",
    "        ix_df = row[0] \n",
    "        sr_data = row[1]\n",
    "        dict_tmp = json_normalize(sr_data.iloc[2]).to_dict()\n",
    "        dict_tmp['InvoiceNo'] = sr_data.iloc[0]\n",
    "        dict_tmp['Customer_ID'] = sr_data.iloc[1]\n",
    "        df_collection = pd.concat([df_collection, pd.DataFrame(dict_tmp)], axis=0)\n",
    "\n",
    "    df_collection = df_collection.reset_index(drop=True)\n",
    "    return df_collection\n",
    "\n",
    "df_purchase = clean_purchase(df_data[['InvoiceNo','Customer_ID','Purchase']])\n",
    "##Cleaning the Purchase Data. Setting Customers that are null as Unknown\n",
    "df_purchase.loc[df_purchase[df_purchase['Customer_ID'].isnull()].index, 'Customer_ID'] = 'Unknown'\n",
    "print df_purchase.shape\n",
    "df_purchase.set_index(['Customer_ID','InvoiceNo','ItemNo']).head()"
   ]
  },
  {
   "cell_type": "code",
   "execution_count": 5,
   "metadata": {},
   "outputs": [],
   "source": [
    "#Write Output files for Stakeholders\n",
    "df_item_lookup = df_purchase[['ItemNo','Description']].drop_duplicates().copy()\n",
    "df_item_lookup = df_item_lookup.drop_duplicates(subset=['ItemNo'])\n",
    "\n",
    "writer = pd.ExcelWriter('./output/data_clean.xlsx')\n",
    "df_data.to_excel(writer,'Invoices')\n",
    "df_purchase.to_excel(writer,'Purchases')\n",
    "df_item_lookup.to_excel(writer,'Items')\n",
    "writer.save()"
   ]
  },
  {
   "cell_type": "code",
   "execution_count": 6,
   "metadata": {},
   "outputs": [],
   "source": [
    "#Understanding and Creating the Data Models\n",
    "df_transactions = df_data[['InvoiceNo','Date','Customer_ID','Planet']].copy()\n",
    "df_transactions['Customer_ID'] = df_transactions['Customer_ID'].apply(lambda x: int(x) if x!='Unknown' else x)\n",
    "df_transactions.rename(columns={'Date':'TransactionDate'}, inplace=True)\n",
    "\n",
    "df_invoices = df_purchase[['InvoiceNo','ItemNo','Quantity','UnitPrice']].copy()\n",
    "\n",
    "df_item_lookup = df_purchase[['ItemNo','Description']].drop_duplicates().copy()\n",
    "df_item_lookup = df_item_lookup.drop_duplicates(subset=['ItemNo'])"
   ]
  },
  {
   "cell_type": "code",
   "execution_count": 7,
   "metadata": {},
   "outputs": [],
   "source": [
    "df_invoices['UpdatedDate'] = pd.to_datetime(datetime.today().strftime('%Y-%m-%d %H:%M:%S'))\n",
    "df_transactions['UpdatedDate'] = pd.to_datetime(datetime.today().strftime('%Y-%m-%d %H:%M:%S'))\n",
    "df_item_lookup['UpdatedDate'] = pd.to_datetime(datetime.today().strftime('%Y-%m-%d %H:%M:%S'))\n",
    "\n",
    "df_invoices.to_csv('./output/Invoices.csv', encoding='utf-8', index=False)\n",
    "df_transactions.to_csv('./output/Transactions.csv', encoding='utf-8', index=False)\n",
    "df_item_lookup.to_csv('./output/Items.csv', encoding='utf-8', index=False)"
   ]
  },
  {
   "cell_type": "markdown",
   "metadata": {},
   "source": [
    "#### Section B:\n",
    "Load the processed data into a database of your choice (e.g. MySQL, PostgreSQL, etc.). You will need to install a database server on your computer if you don’t have one already.\n",
    "\n",
    "Feel free to design the database schema as you see fit. However, it should at minimum include multiple dimension tables. We are looking for a sensible design that delivers efficient queries to the following questions. Please give us the SQL code you write to create the database/tables."
   ]
  },
  {
   "cell_type": "markdown",
   "metadata": {},
   "source": [
    "__Table 1: Invoices__\n",
    "* Table has all the Invoice Transactions with the primary keys being InvoiceNo. Below would be an example and the corresponding DDL."
   ]
  },
  {
   "cell_type": "code",
   "execution_count": 8,
   "metadata": {},
   "outputs": [
    {
     "name": "stdout",
     "output_type": "stream",
     "text": [
      "(540372, 5)\n"
     ]
    },
    {
     "data": {
      "text/html": [
       "<div>\n",
       "<style scoped>\n",
       "    .dataframe tbody tr th:only-of-type {\n",
       "        vertical-align: middle;\n",
       "    }\n",
       "\n",
       "    .dataframe tbody tr th {\n",
       "        vertical-align: top;\n",
       "    }\n",
       "\n",
       "    .dataframe thead th {\n",
       "        text-align: right;\n",
       "    }\n",
       "</style>\n",
       "<table border=\"1\" class=\"dataframe\">\n",
       "  <thead>\n",
       "    <tr style=\"text-align: right;\">\n",
       "      <th></th>\n",
       "      <th>InvoiceNo</th>\n",
       "      <th>ItemNo</th>\n",
       "      <th>Quantity</th>\n",
       "      <th>UnitPrice</th>\n",
       "      <th>UpdatedDate</th>\n",
       "    </tr>\n",
       "  </thead>\n",
       "  <tbody>\n",
       "    <tr>\n",
       "      <th>0</th>\n",
       "      <td>536365</td>\n",
       "      <td>85123A</td>\n",
       "      <td>6</td>\n",
       "      <td>2.55</td>\n",
       "      <td>2018-06-21 10:03:55</td>\n",
       "    </tr>\n",
       "    <tr>\n",
       "      <th>1</th>\n",
       "      <td>536365</td>\n",
       "      <td>71053</td>\n",
       "      <td>6</td>\n",
       "      <td>3.39</td>\n",
       "      <td>2018-06-21 10:03:55</td>\n",
       "    </tr>\n",
       "    <tr>\n",
       "      <th>2</th>\n",
       "      <td>536365</td>\n",
       "      <td>84406B</td>\n",
       "      <td>8</td>\n",
       "      <td>2.75</td>\n",
       "      <td>2018-06-21 10:03:55</td>\n",
       "    </tr>\n",
       "    <tr>\n",
       "      <th>3</th>\n",
       "      <td>536365</td>\n",
       "      <td>84029G</td>\n",
       "      <td>6</td>\n",
       "      <td>3.39</td>\n",
       "      <td>2018-06-21 10:03:55</td>\n",
       "    </tr>\n",
       "    <tr>\n",
       "      <th>4</th>\n",
       "      <td>536365</td>\n",
       "      <td>84029E</td>\n",
       "      <td>6</td>\n",
       "      <td>3.39</td>\n",
       "      <td>2018-06-21 10:03:55</td>\n",
       "    </tr>\n",
       "  </tbody>\n",
       "</table>\n",
       "</div>"
      ],
      "text/plain": [
       "  InvoiceNo  ItemNo  Quantity  UnitPrice         UpdatedDate\n",
       "0    536365  85123A         6       2.55 2018-06-21 10:03:55\n",
       "1    536365   71053         6       3.39 2018-06-21 10:03:55\n",
       "2    536365  84406B         8       2.75 2018-06-21 10:03:55\n",
       "3    536365  84029G         6       3.39 2018-06-21 10:03:55\n",
       "4    536365  84029E         6       3.39 2018-06-21 10:03:55"
      ]
     },
     "execution_count": 8,
     "metadata": {},
     "output_type": "execute_result"
    }
   ],
   "source": [
    "print df_invoices.shape\n",
    "df_invoices.head()"
   ]
  },
  {
   "cell_type": "raw",
   "metadata": {},
   "source": [
    "BEGIN;\n",
    "\n",
    "CREATE TABLE IF NOT EXISTS public.invoices (\n",
    "\t\"InvoiceNo\" character varying(8) NOT NULL,\n",
    "\t\"ItemNo\" character varying(16) NOT NULL,\n",
    "\t\"Quantity\" bigint NOT NULL,\n",
    "\t\"UnitPrice\" numeric NOT NULL,\n",
    "\t\"UpdatedDate\" timestamp without time zone NOT NULL\n",
    ");\n",
    "\n",
    "COMMIT;"
   ]
  },
  {
   "cell_type": "markdown",
   "metadata": {},
   "source": [
    "__Table 2: Transactions__\n",
    "* Table has all the Purchase Transactions with the primary keys being a composite of InvoiceNo, Transaction Date and Customer ID. Below would be the example and the corresponding DDL"
   ]
  },
  {
   "cell_type": "code",
   "execution_count": 9,
   "metadata": {},
   "outputs": [
    {
     "name": "stdout",
     "output_type": "stream",
     "text": [
      "(24363, 5)\n"
     ]
    },
    {
     "data": {
      "text/html": [
       "<div>\n",
       "<style scoped>\n",
       "    .dataframe tbody tr th:only-of-type {\n",
       "        vertical-align: middle;\n",
       "    }\n",
       "\n",
       "    .dataframe tbody tr th {\n",
       "        vertical-align: top;\n",
       "    }\n",
       "\n",
       "    .dataframe thead th {\n",
       "        text-align: right;\n",
       "    }\n",
       "</style>\n",
       "<table border=\"1\" class=\"dataframe\">\n",
       "  <thead>\n",
       "    <tr style=\"text-align: right;\">\n",
       "      <th></th>\n",
       "      <th>InvoiceNo</th>\n",
       "      <th>TransactionDate</th>\n",
       "      <th>Customer_ID</th>\n",
       "      <th>Planet</th>\n",
       "      <th>UpdatedDate</th>\n",
       "    </tr>\n",
       "  </thead>\n",
       "  <tbody>\n",
       "    <tr>\n",
       "      <th>0</th>\n",
       "      <td>536365</td>\n",
       "      <td>2010-12-01</td>\n",
       "      <td>17850</td>\n",
       "      <td>Abydos</td>\n",
       "      <td>2018-06-21 10:03:55</td>\n",
       "    </tr>\n",
       "    <tr>\n",
       "      <th>1</th>\n",
       "      <td>536366</td>\n",
       "      <td>2010-12-01</td>\n",
       "      <td>17850</td>\n",
       "      <td>Abydos</td>\n",
       "      <td>2018-06-21 10:03:55</td>\n",
       "    </tr>\n",
       "    <tr>\n",
       "      <th>2</th>\n",
       "      <td>536367</td>\n",
       "      <td>2010-12-01</td>\n",
       "      <td>13047</td>\n",
       "      <td>Abydos</td>\n",
       "      <td>2018-06-21 10:03:55</td>\n",
       "    </tr>\n",
       "    <tr>\n",
       "      <th>3</th>\n",
       "      <td>536368</td>\n",
       "      <td>2010-12-01</td>\n",
       "      <td>13047</td>\n",
       "      <td>Abydos</td>\n",
       "      <td>2018-06-21 10:03:55</td>\n",
       "    </tr>\n",
       "    <tr>\n",
       "      <th>4</th>\n",
       "      <td>536369</td>\n",
       "      <td>2010-12-01</td>\n",
       "      <td>13047</td>\n",
       "      <td>Abydos</td>\n",
       "      <td>2018-06-21 10:03:55</td>\n",
       "    </tr>\n",
       "  </tbody>\n",
       "</table>\n",
       "</div>"
      ],
      "text/plain": [
       "  InvoiceNo TransactionDate Customer_ID  Planet         UpdatedDate\n",
       "0    536365      2010-12-01       17850  Abydos 2018-06-21 10:03:55\n",
       "1    536366      2010-12-01       17850  Abydos 2018-06-21 10:03:55\n",
       "2    536367      2010-12-01       13047  Abydos 2018-06-21 10:03:55\n",
       "3    536368      2010-12-01       13047  Abydos 2018-06-21 10:03:55\n",
       "4    536369      2010-12-01       13047  Abydos 2018-06-21 10:03:55"
      ]
     },
     "execution_count": 9,
     "metadata": {},
     "output_type": "execute_result"
    }
   ],
   "source": [
    "print df_transactions.shape\n",
    "df_transactions.head()"
   ]
  },
  {
   "cell_type": "raw",
   "metadata": {},
   "source": [
    "BEGIN;\n",
    "\n",
    "CREATE TABLE IF NOT EXISTS public.transactions (\n",
    "\t\"InvoiceNo\" character varying(8) NOT NULL,\n",
    "\t\"TransactionDate\" timestamp without time zone NOT NULL,\n",
    "\t\"Customer_ID\" character varying(8) NOT NULL,\n",
    "\t\"Planet\" character varying(16) NOT NULL,\n",
    "\t\"UpdatedDate\" timestamp without time zone NOT NULL,\n",
    "\tPRIMARY KEY (\"TransactionDate\",\"Customer_ID\",\"InvoiceNo\")\n",
    ");\n",
    "\n",
    "COMMIT;"
   ]
  },
  {
   "cell_type": "markdown",
   "metadata": {},
   "source": [
    "__Table 3: Item Details__\n",
    "* Table 3 has the details of the items in an invoice with the primary key being the invoice ID. It is an lookup table. Below would be the example."
   ]
  },
  {
   "cell_type": "code",
   "execution_count": 10,
   "metadata": {},
   "outputs": [
    {
     "name": "stdout",
     "output_type": "stream",
     "text": [
      "(3958, 3)\n"
     ]
    },
    {
     "data": {
      "text/html": [
       "<div>\n",
       "<style scoped>\n",
       "    .dataframe tbody tr th:only-of-type {\n",
       "        vertical-align: middle;\n",
       "    }\n",
       "\n",
       "    .dataframe tbody tr th {\n",
       "        vertical-align: top;\n",
       "    }\n",
       "\n",
       "    .dataframe thead th {\n",
       "        text-align: right;\n",
       "    }\n",
       "</style>\n",
       "<table border=\"1\" class=\"dataframe\">\n",
       "  <thead>\n",
       "    <tr style=\"text-align: right;\">\n",
       "      <th></th>\n",
       "      <th>ItemNo</th>\n",
       "      <th>Description</th>\n",
       "      <th>UpdatedDate</th>\n",
       "    </tr>\n",
       "  </thead>\n",
       "  <tbody>\n",
       "    <tr>\n",
       "      <th>0</th>\n",
       "      <td>85123A</td>\n",
       "      <td>ADORIAN CROSSBOW</td>\n",
       "      <td>2018-06-21 10:03:55</td>\n",
       "    </tr>\n",
       "    <tr>\n",
       "      <th>1</th>\n",
       "      <td>71053</td>\n",
       "      <td>WHITE METAL LANTERN</td>\n",
       "      <td>2018-06-21 10:03:55</td>\n",
       "    </tr>\n",
       "    <tr>\n",
       "      <th>2</th>\n",
       "      <td>84406B</td>\n",
       "      <td>CREAM CUPID HEARTS COAT HANGER</td>\n",
       "      <td>2018-06-21 10:03:55</td>\n",
       "    </tr>\n",
       "    <tr>\n",
       "      <th>3</th>\n",
       "      <td>84029G</td>\n",
       "      <td>KNITTED UNION FLAG HOT WATER BOTTLE</td>\n",
       "      <td>2018-06-21 10:03:55</td>\n",
       "    </tr>\n",
       "    <tr>\n",
       "      <th>4</th>\n",
       "      <td>84029E</td>\n",
       "      <td>RED WOOLLY HOTTIE WHITE HEART.</td>\n",
       "      <td>2018-06-21 10:03:55</td>\n",
       "    </tr>\n",
       "  </tbody>\n",
       "</table>\n",
       "</div>"
      ],
      "text/plain": [
       "   ItemNo                          Description         UpdatedDate\n",
       "0  85123A                     ADORIAN CROSSBOW 2018-06-21 10:03:55\n",
       "1   71053                  WHITE METAL LANTERN 2018-06-21 10:03:55\n",
       "2  84406B       CREAM CUPID HEARTS COAT HANGER 2018-06-21 10:03:55\n",
       "3  84029G  KNITTED UNION FLAG HOT WATER BOTTLE 2018-06-21 10:03:55\n",
       "4  84029E       RED WOOLLY HOTTIE WHITE HEART. 2018-06-21 10:03:55"
      ]
     },
     "execution_count": 10,
     "metadata": {},
     "output_type": "execute_result"
    }
   ],
   "source": [
    "print df_item_lookup.shape\n",
    "df_item_lookup.head()"
   ]
  },
  {
   "cell_type": "raw",
   "metadata": {},
   "source": [
    "BEGIN;\n",
    "\n",
    "CREATE TABLE IF NOT EXISTS public.items (\n",
    "\t\"ItemNo\" character varying(16) NOT NULL,\n",
    "\t\"Description\" character varying(64) NOT NULL,\n",
    "\t\"UpdatedDate\" timestamp without time zone NOT NULL,\n",
    "\tPRIMARY KEY (\"ItemNo\")\n",
    ");\n",
    "\n",
    "COMMIT;"
   ]
  },
  {
   "cell_type": "markdown",
   "metadata": {},
   "source": [
    "Please write SQL queries to answer the following questions. Give us both your SQL query and your answer. Specify any assumptions you make.\n",
    "1.\tHow many unique customers does the Bebop have?\n",
    "2.\tWhich customer is the second biggest customer by revenue, excluding cancellations?\n",
    "3.\tHow many customers have visited the Bebop on multiple planets?\n",
    "4.\tWhich product has had the most price changes?\n",
    "5.\tWhich item attracts the most new customers?\n",
    "6.\tWhich customer has the shortest average length of time between purchases?\n",
    "7.\tFor each invoice, calculate the total revenue for each item and return the combined revenue of the top 3 items by revenue. You can ignore invoices that have fewer than 3 items.\n",
    "\n",
    "SQL's are given below:"
   ]
  },
  {
   "cell_type": "raw",
   "metadata": {},
   "source": [
    "1. How many unique customers does the Bebop have?\n",
    "Assuming only looking at Customers with valid Customer ID and thereby ignoring Unknown Users.\n",
    "\n",
    "Total Unique Known Customers of Bebop: 4372.\n",
    "\n",
    "Select \n",
    "\tcount(distinct t.\"Customer_ID\") \n",
    "from transactions as t\n",
    "where \n",
    "\tt.\"Customer_ID\" != 'Unknown';"
   ]
  },
  {
   "cell_type": "raw",
   "metadata": {},
   "source": [
    "2. Which customer is the second biggest customer by revenue, excluding cancellations?\n",
    "Assuming Quantity <=0 in invoices are cancellations by customers.\n",
    "\n",
    "Ignoring the Unknown users, with sales of 259,657 the Customer ID: 18102 is the 2nd biggest revenue contributor for Bebop. \n",
    "If we take Unknown users into accoutn then the 2nd biggest revenue contributor is Customer ID: 14646 with sales of 259,657.\n",
    "\n",
    "Select\n",
    "\ttmp.\"Rank\",\n",
    "\ttmp.\"Customer_ID\",\n",
    "\ttmp.\"Revenue\"\n",
    "from\n",
    "(\n",
    "\tSelect\n",
    "\t\trow_number() over (order by sum(inv.\"Quantity\" * inv.\"UnitPrice\")  desc) as \"Rank\",\n",
    "\t\tt.\"Customer_ID\",\n",
    "\t\tsum(inv.\"Quantity\" * inv.\"UnitPrice\") as \"Revenue\"\n",
    "\tfrom transactions\tas t\n",
    "\tleft join invoices as inv \n",
    "\t\t\t\t\t\t\ton inv.\"InvoiceNo\" = t.\"InvoiceNo\"\n",
    "\twhere\n",
    "\t\tinv.\"Quantity\" >0\n",
    "\tGroup by\n",
    "\t\tt.\"Customer_ID\"\n",
    ") as tmp\n",
    "where tmp.\"Rank\" = 2"
   ]
  },
  {
   "cell_type": "raw",
   "metadata": {},
   "source": [
    "3. How many customers have visited the Bebop on multiple planets?\n",
    "Assuming only looking at Customers with valid Customer ID. Ignoring Unknown Users\n",
    "\n",
    "8 Customers have visited Bebop in multiple planets.\n",
    "\n",
    "select\n",
    "\tcount(*) as Total_Customers_with_Multiple_PlanetVisits\n",
    "from\n",
    "(\n",
    "\tSelect\n",
    "\t\tt.\"Customer_ID\",\n",
    "\t\tcount(distinct t.\"Planet\")\n",
    "\tfrom transactions as t\n",
    "\twhere\n",
    "\t\tt.\"Customer_ID\" != 'Unknown'\n",
    "\tGroup by\n",
    "\t\tt.\"Customer_ID\"\n",
    "\tHaving\n",
    "\t\tcount(distinct t.\"Planet\") > 1\n",
    ") as tmp\n"
   ]
  },
  {
   "cell_type": "raw",
   "metadata": {},
   "source": [
    "4. Which product has had the most price changes?\n",
    "Looking at products that have only valid Item No# i.e. only numeric ItemNumbers\n",
    "\n",
    "With 16 Price Changes, ItemNo: 47566 - DE-ATOMIZER and ItemNo:79321 - WEREWINDLE were the two products with most price changes.\n",
    "\n",
    "Select\n",
    "\tinv.\"ItemNo\",\n",
    "\titm.\"Description\",\n",
    "\tcount (distinct inv.\"UnitPrice\") as UniquePriceCount\n",
    "from invoices as inv\n",
    "left join items as itm on itm.\"ItemNo\" = inv.\"ItemNo\"\n",
    "where\n",
    "\tinv.\"ItemNo\" ~ '^[0-9]*$'\n",
    "Group by\n",
    "\tinv.\"ItemNo\", itm.\"Description\"\n",
    "Order by\n",
    "\tcount (distinct inv.\"UnitPrice\") desc"
   ]
  },
  {
   "cell_type": "raw",
   "metadata": {},
   "source": [
    "5. Which item attracts the most new customers?\n",
    "-- Only looking at Customers with valid Customer ID. Ignoring Unknown Users\n",
    "-- Looking at products that have only valid Item No# i.e. only numeric ItemNumbers\n",
    "\n",
    "With 887 Customers, ItemNo:22423 - AGENT PISTOL was the item that attracted the most new customers.\n",
    "\n",
    "Select\n",
    "\tinv.\"ItemNo\",\n",
    "\titm.\"Description\",\n",
    "\tcount (distinct t.\"Customer_ID\") as Customers\n",
    "from invoices as inv\n",
    "left join transactions as t on t.\"InvoiceNo\" = inv.\"InvoiceNo\"\n",
    "\t\t\t\t\t\t\t\tand t.\"Customer_ID\" != 'Unknown'\n",
    "left join items as itm on itm.\"ItemNo\" = inv.\"ItemNo\"\n",
    "where\n",
    "\tinv.\"ItemNo\" ~ '^[0-9]*$'\n",
    "Group by\n",
    "\tinv.\"ItemNo\", itm.\"Description\"\n",
    "Order by\n",
    "\tcount (distinct t.\"Customer_ID\") desc;"
   ]
  },
  {
   "cell_type": "raw",
   "metadata": {},
   "source": [
    "6. Which customer has the shortest average length of time between purchases?\n",
    "-- Only looking at Customers with valid Customer ID. Ignoring Unknown Users\n",
    "-- Assuming minimum time between Purchases for a given customer is greater than a day.\n",
    "\n",
    "With an Average Purchase Time between purchases of 1 day 00:38:00, Customer ID: 15154 is one with the shortest length.\n",
    "\n",
    "Select\n",
    "\ttmp.\"Customer_ID\",\n",
    "\tavg(PurchaseTimeDiff) as AvgPurchaseTimeDiff\n",
    "from\n",
    "(\n",
    "\tSelect\n",
    "\t\tt.\"Customer_ID\",\n",
    "\t\tcoalesce((LEAD(t.\"TransactionDate\") OVER(partition by t.\"Customer_ID\" ORDER BY t.\"TransactionDate\")),t.\"TransactionDate\") - t.\"TransactionDate\" as PurchaseTimeDiff\n",
    "\tfrom transactions as t\n",
    "\twhere\n",
    "\t\tt.\"Customer_ID\" != 'Unknown' \n",
    ") as tmp\n",
    "where\n",
    "\ttmp.PurchaseTimeDiff > '1 days'\n",
    "Group by\n",
    "\ttmp.\"Customer_ID\"\n",
    "Order by\n",
    "\tavg(PurchaseTimeDiff) Asc;"
   ]
  },
  {
   "cell_type": "raw",
   "metadata": {},
   "source": [
    "7. For each invoice, calculate the total revenue for each item and return the combined revenue of the top 3 items by revenue. You can ignore invoices that have fewer than 3 items.\n",
    "-- Assuming the Quantity <=0 are cancellations by the customers\n",
    "\n",
    "Top 3 Invoices are 550461, 540815, 567423.\n",
    "\n",
    "Select\n",
    "\ttmp.\"InvoiceNo\",\n",
    "\tsum(tmp.\"Revenue\") as \"Top3ItemRevenue\"\n",
    "from\n",
    "(\n",
    "\tSelect \n",
    "\t\tinv.\"InvoiceNo\",\n",
    "\t\tinv.\"ItemNo\",\n",
    "\t\tsum(inv.\"Quantity\" * inv.\"UnitPrice\") as \"Revenue\",\n",
    "\t\trow_number() over (partition by inv.\"InvoiceNo\" order by sum(inv.\"Quantity\" * inv.\"UnitPrice\")  desc) as \"Rank\"\n",
    "\tfrom invoices as inv\n",
    "\twhere\n",
    "\t\t\tinv.\"Quantity\" >0\n",
    "\tGroup by\n",
    "\t\tinv.\"InvoiceNo\",\n",
    "\t\tinv.\"ItemNo\"\n",
    "\tOrder by\n",
    "\t\tinv.\"InvoiceNo\",\n",
    "\t\tsum(inv.\"Quantity\" * inv.\"UnitPrice\") desc\n",
    ") as tmp\n",
    "left join \n",
    "\t\t(\n",
    "\t\t\tSelect \n",
    "\t\t\t\tinv.\"InvoiceNo\",\n",
    "\t\t\t\tcount(inv.\"ItemNo\") as \"ItemCount\"\n",
    "\t\t\tfrom invoices as inv\n",
    "\t\t\twhere\n",
    "\t\t\t\t\tinv.\"Quantity\" >0\n",
    "\t\t\tGroup by\n",
    "\t\t\t\tinv.\"InvoiceNo\"\t\n",
    "\t\t\tOrder by\n",
    "\t\t\t\tinv.\"InvoiceNo\"\n",
    "\t\t) as itemcount on itemcount.\"InvoiceNo\" = tmp.\"InvoiceNo\"\n",
    "where\n",
    "\ttmp.\"Rank\" <=3\t\n",
    "\tand itemcount.\"ItemCount\" >=3\n",
    "Group by\n",
    "\ttmp.\"InvoiceNo\"\n",
    "Order by\n",
    "\tsum(tmp.\"Revenue\") desc;"
   ]
  },
  {
   "cell_type": "markdown",
   "metadata": {},
   "source": [
    "## Part 2"
   ]
  },
  {
   "cell_type": "markdown",
   "metadata": {},
   "source": [
    "#### MongoDB\n",
    "Ignoring MongoDB excercise."
   ]
  },
  {
   "cell_type": "markdown",
   "metadata": {},
   "source": [
    "## Part 3"
   ]
  },
  {
   "cell_type": "markdown",
   "metadata": {},
   "source": [
    "#### Runtime Analysis in Python"
   ]
  },
  {
   "cell_type": "code",
   "execution_count": 11,
   "metadata": {},
   "outputs": [],
   "source": [
    "def mystery(array):\n",
    "    mylist =[]\n",
    "    for i in range(len(array)):\n",
    "        for j in range(len(array)):\n",
    "            elem1 = array[i]\n",
    "            elem2 = array[j]\n",
    "            if elem1 == elem2 and i!=j:\n",
    "                if elem2 not in mylist:\n",
    "                    mylist.append(elem2)\n",
    "    \n",
    "    return mylist"
   ]
  },
  {
   "cell_type": "code",
   "execution_count": 12,
   "metadata": {},
   "outputs": [
    {
     "name": "stdout",
     "output_type": "stream",
     "text": [
      "[6, 1, 2, 3, 4, 'apples']\n"
     ]
    }
   ],
   "source": [
    "ls = [6,1,2,3,4,3,0,3,2,3,4,5,6,7,1,6,6,'apples','apples']\n",
    "print mystery(ls)"
   ]
  },
  {
   "cell_type": "raw",
   "metadata": {},
   "source": [
    "1. In plain English, explain what this function does.\n",
    "\n",
    "The function take a collection of elements, and only returns the duplicate/non-unique elements in the collection. \n",
    "    For e.g., \n",
    "        if we pass [6,1,2,3,4,3,0,3,2,3,4,5,6,7,1,6,6] => the function will return us [6, 1, 2, 3, 4]"
   ]
  },
  {
   "cell_type": "raw",
   "metadata": {},
   "source": [
    "2. Describe the runtime of this code as a function of the length of the input array. \n",
    "Please explain your answer. (Bonus points for showing that your bound is tight.)\n",
    "\n",
    "The above code for mystery is an example of O(n^2) function. \n",
    "    * Say there are 10 elements in the list, at the worst case, we've to perform 10 * 10 operations. \n",
    "    * When we generalize to n elements of the list, it comes down to O(n^2) complexity.\n",
    "    \n",
    "Below graph shows you how the computation time increases with respect to the length of the list for mystery(). \n",
    "    * The X-axis represents the length of the list.\n",
    "    * The Y-axis represents the execution time."
   ]
  },
  {
   "cell_type": "code",
   "execution_count": 13,
   "metadata": {},
   "outputs": [
    {
     "data": {
      "text/plain": [
       "<matplotlib.axes._subplots.AxesSubplot at 0x12cbdae10>"
      ]
     },
     "execution_count": 13,
     "metadata": {},
     "output_type": "execute_result"
    },
    {
     "data": {
      "image/png": "[encoded data removed]",
      "text/plain": [
       "<matplotlib.figure.Figure at 0x111379b10>"
      ]
     },
     "metadata": {},
     "output_type": "display_data"
    }
   ],
   "source": [
    "#Build Execution Times for Mystery\n",
    "size = 200\n",
    "ls_times = time_function(size, function=mystery)\n",
    "df_mystery = pd.DataFrame(ls_times,range(size), columns=['Mystery_Exec'])\n",
    "\n",
    "df_mystery.plot()"
   ]
  },
  {
   "cell_type": "raw",
   "metadata": {},
   "source": [
    "3. Write a more efficient implementation of this function. Please do not use any import statements."
   ]
  },
  {
   "cell_type": "code",
   "execution_count": 14,
   "metadata": {},
   "outputs": [
    {
     "name": "stdout",
     "output_type": "stream",
     "text": [
      "[1, 2, 3, 4, 6, 'apples']\n"
     ]
    }
   ],
   "source": [
    "def efficient_mystery(array):\n",
    "    ls_uniques = list(set(array))\n",
    "    mylist =[]\n",
    "    \n",
    "    for i in range(len(ls_uniques)):\n",
    "        elem = ls_uniques[i]\n",
    "        elem_count = array.count(elem)\n",
    "        if elem_count>1:\n",
    "            mylist.append(elem)\n",
    "    \n",
    "    return mylist\n",
    "\n",
    "ls = [6,1,2,3,4,3,0,3,2,3,4,5,6,7,1,6,6,'apples','apples']\n",
    "print efficient_mystery(ls)"
   ]
  },
  {
   "cell_type": "code",
   "execution_count": 15,
   "metadata": {},
   "outputs": [
    {
     "name": "stdout",
     "output_type": "stream",
     "text": [
      "[6, 1, 2, 3, 4, 'apples']\n"
     ]
    }
   ],
   "source": [
    "#Tinkering with another version of Efficient Mystery out.\n",
    "def efficient_mystery2(array):\n",
    "    mylist =[]\n",
    "    for x in array:\n",
    "        idx = array.index(x)\n",
    "        if (x in array[idx+1:]) and (x not in mylist):\n",
    "            mylist.append(x)\n",
    "\n",
    "    return mylist\n",
    "\n",
    "ls = [6,1,2,3,4,3,0,3,2,3,4,5,6,7,1,6,6,'apples','apples']\n",
    "print efficient_mystery2(ls)"
   ]
  },
  {
   "cell_type": "code",
   "execution_count": 16,
   "metadata": {},
   "outputs": [
    {
     "data": {
      "text/plain": [
       "<matplotlib.axes._subplots.AxesSubplot at 0x14ee3be90>"
      ]
     },
     "execution_count": 16,
     "metadata": {},
     "output_type": "execute_result"
    },
    {
     "data": {
      "image/png": "[encoded data removed]",
      "text/plain": [
       "<matplotlib.figure.Figure at 0x12cbda4d0>"
      ]
     },
     "metadata": {},
     "output_type": "display_data"
    }
   ],
   "source": [
    "#Build Execution Times for Efficient Mystery\n",
    "size = 200\n",
    "ls_times = time_function(size, function=efficient_mystery)\n",
    "df_efficient_mystery = pd.DataFrame(ls_times,range(size), columns=['Efficient_Mystery_Exec'])\n",
    "\n",
    "#Build Execution Times for Efficient Mystery2\n",
    "size = 200\n",
    "ls_times = time_function(size, function=efficient_mystery2)\n",
    "df_efficient_mystery2 = pd.DataFrame(ls_times,range(size), columns=['Efficient_Mystery2_Exec'])\n",
    "\n",
    "#Compare Mystery, Efficient Mystery and Efficient Myster2 execution times\n",
    "df_exec_cmp = pd.concat([df_mystery,df_efficient_mystery, df_efficient_mystery2], axis=1)\n",
    "df_exec_cmp.plot()"
   ]
  },
  {
   "cell_type": "raw",
   "metadata": {},
   "source": [
    "4. Describe the runtime of your implementation as a function of the length of the input array. Please explain your answer.\n",
    "\n",
    "The code for efficient_mystery on the other hand is an example of O(n) function. \n",
    "    * Say there are 5 elements in the list, of which there 2 unique elements e.g. list = [1,1,1,2,2]\n",
    "    * At the worst case to, we've to perform only 2 looping operations. \n",
    "    * When we generalize to n unique elements of the list, it comes down to O(n) complexity.\n",
    "\n",
    "We can visualize the difference in the above comparison graph. Efficient_Mystery performs way better than Mystery as the size of the array increases."
   ]
  },
  {
   "cell_type": "raw",
   "metadata": {},
   "source": [
    "5. In plain English, explain how your implementation differs from the one given.\n",
    "\n",
    "In the implmentaion of efficient_mystery,\n",
    "   * If we have a given collection of different types of fruits, we don't have to go through the entire collection to\n",
    "    see if there is more than one of a given type of fruit.\n",
    "\n",
    "   * As long as we know the count of each type of fruit in the collection is > 1, we can safely say that it repeats\n",
    "    and move on to checking for the next unique fruit."
   ]
  }
 ],
 "metadata": {
  "kernelspec": {
   "display_name": "Python 2",
   "language": "python",
   "name": "python2"
  },
  "language_info": {
   "codemirror_mode": {
    "name": "ipython",
    "version": 2
   },
   "file_extension": ".py",
   "mimetype": "text/x-python",
   "name": "python",
   "nbconvert_exporter": "python",
   "pygments_lexer": "ipython2",
   "version": "2.7.14"
  }
 },
 "nbformat": 4,
 "nbformat_minor": 2
}
